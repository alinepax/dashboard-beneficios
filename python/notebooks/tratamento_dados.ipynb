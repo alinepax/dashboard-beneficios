{
 "cells": [
  {
   "cell_type": "code",
   "execution_count": 6,
   "id": "f2fe18e4-13b0-4282-9cfa-573c0c7cb62b",
   "metadata": {},
   "outputs": [
    {
     "data": {
      "text/html": [
       "<div>\n",
       "<style scoped>\n",
       "    .dataframe tbody tr th:only-of-type {\n",
       "        vertical-align: middle;\n",
       "    }\n",
       "\n",
       "    .dataframe tbody tr th {\n",
       "        vertical-align: top;\n",
       "    }\n",
       "\n",
       "    .dataframe thead th {\n",
       "        text-align: right;\n",
       "    }\n",
       "</style>\n",
       "<table border=\"1\" class=\"dataframe\">\n",
       "  <thead>\n",
       "    <tr style=\"text-align: right;\">\n",
       "      <th></th>\n",
       "      <th>ID_Colaborador</th>\n",
       "      <th>Nome</th>\n",
       "      <th>Email</th>\n",
       "      <th>Telefone</th>\n",
       "      <th>Departamento</th>\n",
       "      <th>Tempo_Empresa</th>\n",
       "      <th>Faixa_Etaria</th>\n",
       "    </tr>\n",
       "  </thead>\n",
       "  <tbody>\n",
       "    <tr>\n",
       "      <th>0</th>\n",
       "      <td>1</td>\n",
       "      <td>Renan da Cruz</td>\n",
       "      <td>moreirarafael@melo.br</td>\n",
       "      <td>31 3156-2664</td>\n",
       "      <td>TI</td>\n",
       "      <td>&gt; 5 anos</td>\n",
       "      <td>46+</td>\n",
       "    </tr>\n",
       "    <tr>\n",
       "      <th>1</th>\n",
       "      <td>2</td>\n",
       "      <td>Vicente da Conceição</td>\n",
       "      <td>ycastro@nogueira.br</td>\n",
       "      <td>0500 299 9199</td>\n",
       "      <td>TI</td>\n",
       "      <td>&lt; 1 ano</td>\n",
       "      <td>26-35</td>\n",
       "    </tr>\n",
       "    <tr>\n",
       "      <th>2</th>\n",
       "      <td>3</td>\n",
       "      <td>João Vitor Barros</td>\n",
       "      <td>alveserick@almeida.br</td>\n",
       "      <td>+55 51 2040 4265</td>\n",
       "      <td>TI</td>\n",
       "      <td>1-2 anos</td>\n",
       "      <td>26-35</td>\n",
       "    </tr>\n",
       "    <tr>\n",
       "      <th>3</th>\n",
       "      <td>4</td>\n",
       "      <td>Milena Moreira</td>\n",
       "      <td>ccostela@yahoo.com.br</td>\n",
       "      <td>+55 (084) 9741 3421</td>\n",
       "      <td>Comercial</td>\n",
       "      <td>2-5 anos</td>\n",
       "      <td>18-25</td>\n",
       "    </tr>\n",
       "    <tr>\n",
       "      <th>4</th>\n",
       "      <td>5</td>\n",
       "      <td>Vitor das Neves</td>\n",
       "      <td>larissaferreira@gmail.com</td>\n",
       "      <td>+55 81 9497 0994</td>\n",
       "      <td>Administrativo</td>\n",
       "      <td>1-2 anos</td>\n",
       "      <td>36-45</td>\n",
       "    </tr>\n",
       "  </tbody>\n",
       "</table>\n",
       "</div>"
      ],
      "text/plain": [
       "   ID_Colaborador                  Nome                      Email  \\\n",
       "0               1         Renan da Cruz      moreirarafael@melo.br   \n",
       "1               2  Vicente da Conceição        ycastro@nogueira.br   \n",
       "2               3     João Vitor Barros      alveserick@almeida.br   \n",
       "3               4        Milena Moreira      ccostela@yahoo.com.br   \n",
       "4               5       Vitor das Neves  larissaferreira@gmail.com   \n",
       "\n",
       "              Telefone    Departamento Tempo_Empresa Faixa_Etaria  \n",
       "0         31 3156-2664              TI      > 5 anos          46+  \n",
       "1        0500 299 9199              TI       < 1 ano        26-35  \n",
       "2     +55 51 2040 4265              TI      1-2 anos        26-35  \n",
       "3  +55 (084) 9741 3421       Comercial      2-5 anos        18-25  \n",
       "4     +55 81 9497 0994  Administrativo      1-2 anos        36-45  "
      ]
     },
     "execution_count": 6,
     "metadata": {},
     "output_type": "execute_result"
    }
   ],
   "source": [
    "# Bibliotecas principais\n",
    "import pandas as pd\n",
    "\n",
    "# Definindo o caminho base\n",
    "caminho_base = r'C:\\Users\\Aline.Aline\\Desktop\\GitHub\\Projeto 7 - Sistema de Apoio à Área de Benefícios\\data'\n",
    "\n",
    "# Lendo os arquivos diretamente do caminho correto\n",
    "colab_df = pd.read_csv(fr'{caminho_base}\\colaboradores.csv')\n",
    "benef_df = pd.read_csv(fr'{caminho_base}\\uso_beneficios.csv')\n",
    "\n",
    "# Visualizar as 5 primeiras linhas de cada base\n",
    "colab_df.head()\n"
   ]
  },
  {
   "cell_type": "code",
   "execution_count": 7,
   "id": "a8c30e59-244e-4dc6-b0e8-f2d3b3b7733f",
   "metadata": {},
   "outputs": [
    {
     "data": {
      "text/html": [
       "<div>\n",
       "<style scoped>\n",
       "    .dataframe tbody tr th:only-of-type {\n",
       "        vertical-align: middle;\n",
       "    }\n",
       "\n",
       "    .dataframe tbody tr th {\n",
       "        vertical-align: top;\n",
       "    }\n",
       "\n",
       "    .dataframe thead th {\n",
       "        text-align: right;\n",
       "    }\n",
       "</style>\n",
       "<table border=\"1\" class=\"dataframe\">\n",
       "  <thead>\n",
       "    <tr style=\"text-align: right;\">\n",
       "      <th></th>\n",
       "      <th>ID_Colaborador</th>\n",
       "      <th>Benefício_Utilizado</th>\n",
       "      <th>Data_Adesão</th>\n",
       "    </tr>\n",
       "  </thead>\n",
       "  <tbody>\n",
       "    <tr>\n",
       "      <th>0</th>\n",
       "      <td>1</td>\n",
       "      <td>Auxílio Academia</td>\n",
       "      <td>2023-10-26</td>\n",
       "    </tr>\n",
       "    <tr>\n",
       "      <th>1</th>\n",
       "      <td>1</td>\n",
       "      <td>Plano de Saúde</td>\n",
       "      <td>2023-10-09</td>\n",
       "    </tr>\n",
       "    <tr>\n",
       "      <th>2</th>\n",
       "      <td>1</td>\n",
       "      <td>Auxílio Psicólogo</td>\n",
       "      <td>2024-08-29</td>\n",
       "    </tr>\n",
       "    <tr>\n",
       "      <th>3</th>\n",
       "      <td>1</td>\n",
       "      <td>Vale Refeição</td>\n",
       "      <td>2023-10-29</td>\n",
       "    </tr>\n",
       "    <tr>\n",
       "      <th>4</th>\n",
       "      <td>2</td>\n",
       "      <td>Plano de Saúde</td>\n",
       "      <td>2025-04-28</td>\n",
       "    </tr>\n",
       "  </tbody>\n",
       "</table>\n",
       "</div>"
      ],
      "text/plain": [
       "   ID_Colaborador Benefício_Utilizado Data_Adesão\n",
       "0               1    Auxílio Academia  2023-10-26\n",
       "1               1      Plano de Saúde  2023-10-09\n",
       "2               1   Auxílio Psicólogo  2024-08-29\n",
       "3               1       Vale Refeição  2023-10-29\n",
       "4               2      Plano de Saúde  2025-04-28"
      ]
     },
     "execution_count": 7,
     "metadata": {},
     "output_type": "execute_result"
    }
   ],
   "source": [
    "benef_df.head()\n"
   ]
  },
  {
   "cell_type": "code",
   "execution_count": 8,
   "id": "d7b3d05e-63de-4720-a9c6-c0414f12499e",
   "metadata": {},
   "outputs": [
    {
     "data": {
      "text/plain": [
       "0"
      ]
     },
     "execution_count": 8,
     "metadata": {},
     "output_type": "execute_result"
    }
   ],
   "source": [
    "# Verificar nulos\n",
    "colab_df.isnull().sum()\n",
    "benef_df.isnull().sum()\n",
    "\n",
    "# Verificar duplicatas\n",
    "colab_df.duplicated().sum()\n",
    "benef_df.duplicated().sum()\n"
   ]
  },
  {
   "cell_type": "code",
   "execution_count": 9,
   "id": "f95cec89-4952-43fb-aa98-2c666066ab51",
   "metadata": {},
   "outputs": [],
   "source": [
    "colab_df = colab_df.drop_duplicates()\n",
    "benef_df = benef_df.drop_duplicates()\n"
   ]
  },
  {
   "cell_type": "code",
   "execution_count": 10,
   "id": "5217f46d-7105-4b3f-b4c1-64c8c5af76c5",
   "metadata": {},
   "outputs": [],
   "source": [
    "# Criar um novo ID seguro (embaralhado)\n",
    "colab_df['ID_Anonimo'] = pd.factorize(colab_df['Nome'])[0] + 1\n",
    "\n",
    "# Remover dados sensíveis\n",
    "colab_anon_df = colab_df.drop(columns=['Nome', 'Email', 'Telefone'])\n",
    "\n",
    "# Reorganizar colunas\n",
    "colab_anon_df = colab_anon_df[['ID_Anonimo', 'Departamento', 'Tempo_Empresa', 'Faixa_Etaria']]\n",
    "colab_anon_df = colab_anon_df.rename(columns={'ID_Anonimo': 'ID_Colaborador'})\n"
   ]
  },
  {
   "cell_type": "code",
   "execution_count": 12,
   "id": "17d32bdc-37a8-4e51-a041-333913d32d44",
   "metadata": {},
   "outputs": [],
   "source": [
    "# Criar mapeamento de IDs (corrigido com .copy())\n",
    "id_map = colab_df[['ID_Colaborador', 'Nome']].copy()\n",
    "anon_map = pd.factorize(colab_df['Nome'])[0] + 1\n",
    "id_map['ID_Anonimo'] = anon_map\n",
    "\n",
    "# Substituir IDs na base de benefícios\n",
    "benef_df = benef_df.merge(id_map, on='ID_Colaborador')\n",
    "benef_df = benef_df.drop(columns=['ID_Colaborador', 'Nome'])\n",
    "benef_df = benef_df.rename(columns={'ID_Anonimo': 'ID_Colaborador'})\n"
   ]
  },
  {
   "cell_type": "code",
   "execution_count": 13,
   "id": "1cfbe649-6f46-410e-bb06-2cac74507c28",
   "metadata": {},
   "outputs": [],
   "source": [
    "# Salvar bases tratadas\n",
    "colab_anon_df.to_csv('colaboradores_anonimizados.csv', index=False)\n",
    "benef_df.to_csv('uso_beneficios_anonimizados.csv', index=False)\n"
   ]
  },
  {
   "cell_type": "code",
   "execution_count": null,
   "id": "f81076be-fcb2-4fb8-9cb4-f99fce4500b2",
   "metadata": {},
   "outputs": [],
   "source": []
  }
 ],
 "metadata": {
  "kernelspec": {
   "display_name": "Python 3 (ipykernel)",
   "language": "python",
   "name": "python3"
  },
  "language_info": {
   "codemirror_mode": {
    "name": "ipython",
    "version": 3
   },
   "file_extension": ".py",
   "mimetype": "text/x-python",
   "name": "python",
   "nbconvert_exporter": "python",
   "pygments_lexer": "ipython3",
   "version": "3.12.7"
  }
 },
 "nbformat": 4,
 "nbformat_minor": 5
}
